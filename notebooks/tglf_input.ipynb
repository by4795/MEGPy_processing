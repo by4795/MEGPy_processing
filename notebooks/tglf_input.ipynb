{
 "cells": [
  {
   "cell_type": "code",
   "execution_count": 1,
   "metadata": {},
   "outputs": [],
   "source": [
    "import os\n",
    "import numpy as np\n",
    "\n",
    "import megpy\n",
    "import gyrokit\n",
    "from gyrokit.utils import *"
   ]
  },
  {
   "cell_type": "code",
   "execution_count": 2,
   "metadata": {},
   "outputs": [],
   "source": [
    "# settings\n",
    "rho_fs = 0.95 # radial position in the 1D profiles and equilibrium, rho_tor_norm\n",
    "use_fitted_q = False # True/False use the GPR fitted q-profile/use the numerical equilibrium q-profile\n",
    "\n",
    "f_path = '../data/S069951_T01.pkl'\n",
    "#f_path = './data/S069951_T01_cp.h5'\n",
    "f_eq_path = '../data/S069951_T01_eq.h5'"
   ]
  },
  {
   "cell_type": "code",
   "execution_count": 3,
   "metadata": {},
   "outputs": [
    {
     "name": "stdout",
     "output_type": "stream",
     "text": [
      "Reading EX2GK pickle file to CoreProfiles...\n",
      "Converting core_profile IDS 1D profiles to local values at rho_tor_norm = 0.95 ...\n"
     ]
    }
   ],
   "source": [
    "# read EX2GK profile data\n",
    "prof1d = gyrokit.CoreProfiles() # CoreProfiles objects store fitted profile data from EX2GK in core_profiles IDS format, see: https://gafusion.github.io/omas/schema/schema_core%20profiles.html\n",
    "if '.pkl' in f_path:\n",
    "    prof1d.read_ex2gk_pkl_to_ids(f_path)\n",
    "elif '.h5' in f_path:\n",
    "    prof1d.read_ids_core_profiles(f_path)\n",
    "\n",
    "# get local profile values\n",
    "prof1d.get_local_values1d(rho_fs)"
   ]
  },
  {
   "cell_type": "code",
   "execution_count": 4,
   "metadata": {},
   "outputs": [
    {
     "name": "stdout",
     "output_type": "stream",
     "text": [
      "Reading EX2GK equilibrium information to Equilibrium...\n",
      "Adding derived quantities to Equilibrium...\n",
      "Adding fluxsurfaces to Equilibrium...\n",
      " 100% completed\n",
      "tracer time:0.071s / flux-surface\n",
      "analytic extraction time:0.001s / flux-surface\n",
      "Optimising parameterization fit of fluxsurfaces...\n",
      " 100% completed\n",
      "Optimization time:0.196s / flux-surface\n",
      "Total fitting time:1.370s\n",
      "Number of points on reference flux-surface: 678\n",
      "Computing analytical Miller geometry quantities...\n"
     ]
    }
   ],
   "source": [
    "# get local magnetic geometry\n",
    "eq = megpy.Equilibrium()\n",
    "#eq.verbose = False\n",
    "if '.pkl' in f_path:\n",
    "    eq.read_ex2gk_pkl(f_path,use_fitted=use_fitted_q)\n",
    "elif '.h5' in f_path:\n",
    "    eq.read_ids_equilibrium(f_eq_path)\n",
    "eq.add_derived(refine=4)\n",
    "\n",
    "locgeo = megpy.LocalEquilibrium('miller',eq,rho_fs,\n",
    "                                analytic_shape=True,\n",
    "                                n_x=7,\n",
    "                                n_harmonics=6,\n",
    "                                n_theta='default',\n",
    "                                opt_bpol=False,\n",
    "                                opt_deriv=False,\n",
    "                                verbose=True)"
   ]
  },
  {
   "cell_type": "code",
   "execution_count": 5,
   "metadata": {},
   "outputs": [],
   "source": [
    "# reference units\n",
    "m_e = 0.00027428995 # electron mass normalised to the mass of deuterium\n",
    "z_e = -1.0\n",
    "\n",
    "m_ref = 2.0 \n",
    "n_ref = prof1d.local_values['electrons']['density_thermal']\n",
    "T_ref = prof1d.local_values['electrons']['temperature']\n",
    "L_ref = eq.derived['a'] # plasma minor radius at last closed flux-surface\n",
    "c_s = 9.7871518E3*np.sqrt(T_ref/m_ref) # ion sound speed, prefactor is sqrt(1.602e-19/m_proton)\n",
    "\n",
    "n_ions = len(prof1d.ids['profiles_1d[]&ion[]&density_thermal'])"
   ]
  },
  {
   "cell_type": "code",
   "execution_count": 6,
   "metadata": {},
   "outputs": [
    {
     "name": "stdout",
     "output_type": "stream",
     "text": [
      "Running TGLF at ..//test/ ...\n",
      "==========================================================\n",
      "TGLF 85f4e347 [2024-02-24] GFORTRAN_OSX_MACPORTS Darwin x86_64\n",
      "==========================================================\n",
      "[Parsing data in input.tglf]\n",
      "/Users/garudsnoep/Documents/PhD/Code/tglf_nn_gyrokit/test\n",
      "  D(R) = -2.4923E-01  D(I) = -1.4908E-01\n",
      "  kinetic species =          4  non-kinetic species =          0\n",
      "      Gam/Gam_GB   Q/Q_GB     Q_low/Q_GB   Pi/Pi_GB    S/S_GB\n",
      "elec  8.3471E+03  5.7494E+04  5.6500E+04 -7.7243E-03  4.9920E+04\n",
      "ion1  7.6617E+03  1.8081E+05  1.7939E+05 -1.9463E+00 -3.8199E+04\n",
      "ion2 -2.4997E-01  1.2109E+01  1.2023E+01 -4.5613E-04 -1.2837E-01\n",
      "ion3  2.4531E+01  3.3841E+02  3.3335E+02 -6.9773E-03  3.0595E+02\n",
      "\n"
     ]
    }
   ],
   "source": [
    "tglf = gyrokit.TGLF()\n",
    "\n",
    "# specify GACODE environment variables\n",
    "tglf.metadata['gacode_platform'] = '\"GFORTRAN_OSX_MACPORTS\"'\n",
    "tglf.metadata['gacode_root'] = '{}/Codes/gacode/'.format(os.path.expanduser('~'))\n",
    "\n",
    "# specify TGLF run path\n",
    "data_path = '../'\n",
    "tglf.metadata['run_path'] = '{}/test/'.format(data_path)\n",
    "tglf.collect = True\n",
    "\n",
    "# units options: CGYRO, GENE\n",
    "tglf.input['UNITS'] = 'CGYRO'\n",
    "\n",
    "if tglf.input['UNITS'] == 'GENE':\n",
    "    B_ref = locgeo.fs['Bref_miller']\n",
    "else:\n",
    "    B_ref = locgeo.fs['B_unit']\n",
    "    #B_ref = locgeo.eq.derived['B_unit'][locgeo.x_grid.index(locgeo.x_loc)]\n",
    "\n",
    "dxdr = locgeo.fs['dxdr'] # drho_tor_norm / dr w.r.t. the fitted r\n",
    "#dxdr = np.gradient(locgeo.eq.fluxsurfaces['rho_tor'],locgeo.eq.fluxsurfaces['r'])[locgeo.x_grid.index(locgeo.x_loc)] # drho_tor_norm / dr w.r.t. the magnetic axis average r\n",
    "\n",
    "# grid settings\n",
    "tglf.input['NMODES'] = 4\n",
    "tglf.input['NBASIS_MAX'] = 6 #SAT2 has been tuned on NBASIS_MAX=6, when changing from the default the accuracy of the quasilinear fluxes is not guaranteed\n",
    "tglf.input['KYGRID_MODEL'] = 4\n",
    "tglf.input['NKY'] = 10 #for KYGRID_MODEL=4 this number is the amount of ETG range wavenumbers (KY > 2) \n",
    "tglf.input['USE_AVE_ION_GRID'] = 'T'\n",
    "\n",
    "# electromagnetic settings\n",
    "tglf.input['USE_BPER'] = 'T'\n",
    "tglf.input['USE_BPAR'] = 'T'\n",
    "tglf.input['USE_MHD_RULE'] = 'F'\n",
    "\n",
    "# SAT rule settings\n",
    "tglf.input['SAT_RULE'] = 2\n",
    "tglf.input['XNU_MODEL'] = 3\n",
    "\n",
    "# local equilibrium parameterization\n",
    "tglf.input['GEOMETRY_FLAG'] = 1\n",
    "tglf.input['RMIN_LOC']    = locgeo.shape[2]/L_ref\n",
    "tglf.input['RMAJ_LOC']    = locgeo.shape[0]/L_ref\n",
    "tglf.input['DRMAJDX_LOC'] = locgeo.shape_deriv[0]\n",
    "tglf.input['DZMAJDX_LOC'] = locgeo.shape_deriv[1]\n",
    "tglf.input['KAPPA_LOC']   = locgeo.shape[3]\n",
    "tglf.input['S_KAPPA_LOC'] = locgeo.shape_deriv[2]\n",
    "tglf.input['DELTA_LOC']   = locgeo.shape[4]\n",
    "tglf.input['S_DELTA_LOC'] = locgeo.shape_deriv[3]\n",
    "if len(locgeo.shape) == 6:\n",
    "    tglf.input['ZETA_LOC']    = locgeo.shape[5]\n",
    "    tglf.input['S_ZETA_LOC']  = locgeo.shape_deriv[4]\n",
    "else:\n",
    "    tglf.input['ZETA_LOC']    = 0.0\n",
    "    tglf.input['S_ZETA_LOC']  = 0.0\n",
    "\n",
    "if not use_fitted_q:\n",
    "    tglf.input['Q_LOC']   = locgeo.fs['q']\n",
    "else:\n",
    "    tglf.input['Q_LOC']   = prof1d.local_values['q']\n",
    "tglf.input['Q_PRIME_LOC'] = locgeo.fs['s']*(tglf.input['Q_LOC']/tglf.input['RMIN_LOC'])**2\n",
    "#tglf.input['Q_PRIME_LOC'] = locgeo.eq.derived['s'][locgeo.x_grid.index(locgeo.x_loc)]*(tglf.input['Q_LOC']/tglf.input['RMIN_LOC'])**2 # this is shear compute wrt the midplane minor_r instead of the fitted minor_r\n",
    "\n",
    "ALPHA_LOC = -(locgeo.fs['q']**2)*locgeo.fs['R0']*(8*np.pi*1E-7*((prof1d.local_values['electrons']['pressure_thermal_ddx']*dxdr)/(B_ref**2)))\n",
    "for i_ion in range(0,n_ions):\n",
    "    ALPHA_LOC += -(locgeo.fs['q']**2)*locgeo.fs['R0']*(8*np.pi*1E-7*((prof1d.local_values['ion[]']['pressure_thermal_ddx'][i_ion]*dxdr)/(B_ref**2)))\n",
    "\n",
    "tglf.input['P_PRIME_LOC'] = -ALPHA_LOC/(8.0*np.pi*tglf.input['Q_LOC']*tglf.input['RMAJ_LOC']*tglf.input['RMIN_LOC'])\n",
    "tglf.input['KX0_LOC'] = 0.0\n",
    "\n",
    "# rotation\n",
    "if 'rotation_frequency_tor_sonic' in prof1d.local_values:\n",
    "    incl_rot = True\n",
    "else:\n",
    "    incl_rot = False\n",
    "\n",
    "if incl_rot:\n",
    "    # V_ExB, definition from TGLF manual, this is missing the additional radial force balance terms, perhaps contact F Casson for the more accurate formulation being used in JINTRAC\n",
    "    tglf.input['VEXB_SHEAR'] = 0.0 # -np.sign(I_TOR_LOC) * (locgeo.shape[2]/tglf.input['Q_LOC']) * (prof1d.local_values['rotation_frequency_tor_sonic_ddx']*dxdr) * (L_ref/c_s), np.sign(I_TOR_LOC) is 1/-1 for CW/CCW, in JET I think this should always be -1\n",
    "else:\n",
    "    tglf.input['VEXB_SHEAR'] = 0.0\n",
    "\n",
    "# add local species inputs\n",
    "tglf.input['NS'] = 1 + n_ions\n",
    "\n",
    "# electrons\n",
    "tglf.input['ZS_1']          = z_e\n",
    "tglf.input['MASS_1']        = m_e\n",
    "tglf.input['RLNS_1']        = -(L_ref/n_ref)*prof1d.local_values['electrons']['density_thermal_ddx']*dxdr\n",
    "tglf.input['RLTS_1']        = -(L_ref/T_ref)*prof1d.local_values['electrons']['temperature_ddx']*dxdr\n",
    "tglf.input['TAUS_1']        = 1\n",
    "tglf.input['AS_1']          = 1\n",
    "tglf.input['VPAR_1']        = 0.0 #  np.sign(I_TOR_LOC) * (locgeo.shape[2]) * prof1d.local_values['rotation_frequency_tor_sonic'] * (1/c_s)\n",
    "if incl_rot:\n",
    "    tglf.input['VPAR_SHEAR_1']  = 0.0 # -np.sign(I_TOR_LOC) * (locgeo.shape[2]) * prof1d.local_values['rotation_frequency_tor_sonic_ddx']*dxdr * (L_ref/c_s)\n",
    "else:\n",
    "    tglf.input['VPAR_SHEAR_1']  = 0.0 # VPAR_SHEAR = (locgeo.shape[2]/tglf.input['Q_LOC']) * (prof1d.local_values['rotation_frequency_tor_sonic_ddx']*dxdr) * (L_ref/c_s)\n",
    "\n",
    "# ions\n",
    "ZEFF_LOC = 0\n",
    "for i_ion in range(0,n_ions):\n",
    "    T_i = prof1d.local_values['ion[]']['temperature'][i_ion]\n",
    "    n_i = prof1d.local_values['ion[]']['density_thermal'][i_ion]\n",
    "    tglf.input[f'ZS_{i_ion+2}']   = prof1d.ids['profiles_1d[]&ion[]&element[]&z_n'][i_ion][0]\n",
    "    tglf.input[f'MASS_{i_ion+2}'] = prof1d.ids['profiles_1d[]&ion[]&element[]&a'][i_ion][0]/m_ref\n",
    "    tglf.input[f'RLNS_{i_ion+2}'] = -(L_ref/n_i)*prof1d.local_values['ion[]']['density_thermal_ddx'][i_ion]*dxdr\n",
    "    tglf.input[f'RLTS_{i_ion+2}'] = -(L_ref/T_i)*prof1d.local_values['ion[]']['temperature_ddx'][i_ion]*dxdr\n",
    "    tglf.input[f'TAUS_{i_ion+2}'] = T_i/T_ref\n",
    "    tglf.input[f'AS_{i_ion+2}']   = n_i/n_ref\n",
    "    ZEFF_LOC += tglf.input[f'AS_{i_ion+2}']*tglf.input[f'ZS_{i_ion+2}']**2\n",
    "\n",
    "# set Zeff \n",
    "if not np.isclose(ZEFF_LOC,prof1d.local_values['zeff'], atol=1e-04, equal_nan=False):\n",
    "    print('Warning local value of EX2GK Z_eff is inconsistent with species, switched to self-consistent value')\n",
    "    print(ZEFF_LOC,prof1d.local_values['zeff'])\n",
    "    tglf.input['ZEFF'] = ZEFF_LOC\n",
    "else:\n",
    "    tglf.input['ZEFF'] = prof1d.local_values['zeff']\n",
    "\n",
    "# beta, debye length and normalized collisionality\n",
    "BETA_E_LOC = (403*1E-5*(n_ref*1E-19)*(T_ref*1E-3))/(B_ref**2)\n",
    "tglf.input['BETAE'] = BETA_E_LOC*tglf.input['TAUS_1']*tglf.input['AS_1']\n",
    "\n",
    "DEBYE_LOC = np.sqrt(5.2936E-4*(B_ref**2/(n_ref*1E-19))*(1/m_ref))\n",
    "tglf.input['DEBYE'] = DEBYE_LOC\n",
    "\n",
    "ln_lambda = 24-np.log(np.sqrt(n_ref*1E-19*1E13)/(T_ref))\n",
    "COLL_LOC = 2.3031E-5*ln_lambda*(n_ref*1E-19)*L_ref/((T_ref*1E-3)**2)\n",
    "tglf.input['XNUE'] = COLL_LOC*(4.0/tglf.input['MASS_1']**0.5)*tglf.input['AS_1']/tglf.input['TAUS_1']**1.5\n",
    "\n",
    "# write input to run_path\n",
    "if not os.path.isdir(tglf.metadata['run_path']):\n",
    "    os.makedirs(tglf.metadata['run_path'])\n",
    "tglf.write_input()\n",
    "\n",
    "# run TGLF\n",
    "tglf.n_cpu = 4\n",
    "tglf.run(verbose=True,collect=False)\n",
    "\n",
    "# collect TGLF output\n",
    "if tglf.collect:\n",
    "    tglf.collect_output(essential=False)"
   ]
  },
  {
   "cell_type": "code",
   "execution_count": 7,
   "metadata": {},
   "outputs": [
    {
     "data": {
      "image/png": "[encoded data removed]",
      "text/plain": [
       "<Figure size 400x800 with 2 Axes>"
      ]
     },
     "metadata": {},
     "output_type": "display_data"
    }
   ],
   "source": [
    "tglf.plot_eigenvalue_spectra(modes=[1],figure=1,show=True)#,save=True,file='eigenvalue_spectra.pdf')"
   ]
  }
 ],
 "metadata": {
  "kernelspec": {
   "display_name": "Python 3",
   "language": "python",
   "name": "python3"
  },
  "language_info": {
   "codemirror_mode": {
    "name": "ipython",
    "version": 3
   },
   "file_extension": ".py",
   "mimetype": "text/x-python",
   "name": "python",
   "nbconvert_exporter": "python",
   "pygments_lexer": "ipython3",
   "version": "3.10.7"
  }
 },
 "nbformat": 4,
 "nbformat_minor": 2
}
